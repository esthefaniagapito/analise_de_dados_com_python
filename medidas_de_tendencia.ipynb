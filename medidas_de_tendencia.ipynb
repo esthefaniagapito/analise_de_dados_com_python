{
 "cells": [
  {
   "cell_type": "markdown",
   "metadata": {},
   "source": [
    "# Medidas de Tendênia Central"
   ]
  },
  {
   "cell_type": "markdown",
   "metadata": {},
   "source": [
    "## 1. Média\n",
    "A média representa a soma do conjunto dos elementos da amostra divido pela quantidade de elementos que essa amostra possui.\n",
    "\n",
    "### Como podemos interpretar a média?\n",
    "- Essa é uma medida de tendência central que tem como **objetivo** encontrar um valor central entre todos os valores da amostra, *seu ponto médio*.\n",
    "- Deve ser utilizada quando os valores da amostra seguem uma distribuição normal, ou seja, são valores uniformes entre si.\n",
    "- Deve ser *evitada* diante de valores atípicos, pois podem influenciar o resultado real.\n",
    "\n",
    "### Fórmula\n",
    "$$ \\mu = \\sum {fórmula} / n  $$"
   ]
  },
  {
   "cell_type": "markdown",
   "metadata": {},
   "source": [
    "### Exemplo prático\n",
    "Consumindo dados de um csv para calcular a média"
   ]
  },
  {
   "cell_type": "code",
   "execution_count": 18,
   "metadata": {},
   "outputs": [],
   "source": [
    "import pandas as pd\n",
    "import numpy as np\n",
    "import math"
   ]
  },
  {
   "cell_type": "code",
   "execution_count": null,
   "metadata": {},
   "outputs": [],
   "source": [
    "# Criando um data frame que irá receber um arquivo CSV com as notas dos alunos de uma escola\n",
    "df = pd.read_csv(\"analise_de_dados_com_python/bd_nota_alunos.csv\")\n",
    "df.head()\n",
    "df.info()"
   ]
  },
  {
   "cell_type": "markdown",
   "metadata": {},
   "source": [
    "### Obtendo a média com os recursos de python"
   ]
  },
  {
   "cell_type": "code",
   "execution_count": 21,
   "metadata": {},
   "outputs": [
    {
     "data": {
      "text/plain": [
       "5.897058823529412"
      ]
     },
     "execution_count": 21,
     "metadata": {},
     "output_type": "execute_result"
    }
   ],
   "source": [
    "# Utilizando recursos da linguagem python\n",
    "mi = df['Notas1'].mean()\n",
    "mi\n"
   ]
  },
  {
   "cell_type": "markdown",
   "metadata": {},
   "source": [
    "### Interpretação do resultado:\n",
    "Podemos concluir que para o conjunto de 68 notas dos alunos de uma escola, obtivemos como média o valor 5.89"
   ]
  },
  {
   "cell_type": "markdown",
   "metadata": {},
   "source": [
    "## 2. Mediana\n",
    "A mediana é outra medida de tendência central, porém diferentemente, da média ela divide a amostra em dois grupos e o valor no meio, aquele que os divide a sua mediana.\n",
    "\n",
    "Para obtermos a mediana de maneira tradicional devemos seguir as seguintes etapas:\n",
    "1. Organizar os elementos em rol ou de forma crescente.\n",
    "2. Verificar se a quantidade de elementos na nossa amostra é par ou ímpar.\n",
    "3. No caso de ser ímpar, calcularemos: $ mediana = n + 1 / 2 $\n",
    "4. Senão façamos: $ n1 = n + 1 / 2, n2 = n1 + 1, mediana = n1 + n2 / 2$\n",
    "\n",
    "Lembrando que o valor encontrado refere-se a sua posição e a partir desta posição verificamos qual é o valor contido."
   ]
  },
  {
   "cell_type": "code",
   "execution_count": 23,
   "metadata": {},
   "outputs": [
    {
     "data": {
      "text/plain": [
       "6.0"
      ]
     },
     "execution_count": 23,
     "metadata": {},
     "output_type": "execute_result"
    }
   ],
   "source": [
    "# Calculando a mediana\n",
    "mediana = df['Notas1'].median()\n",
    "mediana"
   ]
  },
  {
   "cell_type": "code",
   "execution_count": null,
   "metadata": {},
   "outputs": [],
   "source": []
  }
 ],
 "metadata": {
  "kernelspec": {
   "display_name": "Python 3.10.6 64-bit",
   "language": "python",
   "name": "python3"
  },
  "language_info": {
   "codemirror_mode": {
    "name": "ipython",
    "version": 3
   },
   "file_extension": ".py",
   "mimetype": "text/x-python",
   "name": "python",
   "nbconvert_exporter": "python",
   "pygments_lexer": "ipython3",
   "version": "3.10.6"
  },
  "orig_nbformat": 4,
  "vscode": {
   "interpreter": {
    "hash": "beedbe2faf2f7048d727558d0bc3221e7eba2a0b921cac4d4771b2feb8f74b30"
   }
  }
 },
 "nbformat": 4,
 "nbformat_minor": 2
}
